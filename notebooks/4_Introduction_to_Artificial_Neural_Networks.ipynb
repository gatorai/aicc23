{
 "cells": [
  {
   "cell_type": "markdown",
   "id": "28d17300",
   "metadata": {},
   "source": [
    "# 🤖 Introduction to <code>Artificial Neural Networks</code>\n",
    "<img src=\"https://github.com/gatorai/aicc23/raw/main/graphics/artificial-neural-network-3501528_960_720.png\" width=\"30%\"/>\n",
    "\n",
    "### 📚 After this short module, you will be able to:\n",
    "1. Describe the biological inspiration for artificial neural networks (ANN).\n",
    "2. Explain at a basic level how the Perceptron model (one of the simplest ANNs) processes input data.\n",
    "3. Identify the important role of activation functions in ANNs.\n",
    "3. Demonstrate your understanding of Python functions by creating a simple activation function for a neural network.\n",
    "\n",
    "# 🚀 Let's get started!"
   ]
  },
  {
   "cell_type": "markdown",
   "id": "9bbf2018",
   "metadata": {},
   "source": [
    "## 🧠 Artificial Neural Networks (ANNs)\n",
    "\n",
    "ANNs are...\n",
    "* a subset of machine learning that can be used to model a wide range of problems.\n",
    "* composed of a collection of interconnected connected nodes that accept an input and produce an output.\n",
    "* a fundamental component of deep learning.\n",
    "\n",
    "<img src=\"https://github.com/gatorai/aicc23/raw/main/graphics/neural_network_im.jpg\" width=\"50%\" alt=\"Neural Network\" style=\"background:white;\"/>\n",
    "<center><a href=\"https://www.analyticsvidhya.com/blog/2016/08/evolution-core-concepts-deep-learning-neural-networks\">Source</a></center>"
   ]
  },
  {
   "cell_type": "markdown",
   "id": "10593207",
   "metadata": {},
   "source": [
    "# 💥 Biological Neurons\n",
    "Biological neurons...\n",
    "* use electrical and chemical signals to pass information between different regions of the brain\n",
    "* receive information through their dendrites and cell body\n",
    "* transmit eletrical signals down their axons which triggers the release of neurotransmitters through their axon terminals.\n",
    "\n",
    "The electrical signals sent down the axon **do not** vary in magnitude.\n",
    "\n",
    "<center><img src=\"https://github.com/gatorai/aicc23/raw/main/graphics/biological_neuron.png\" width=\"50%\" alt='biological neuron'/></center>\n",
    "<center><a href=\"https://www.upgrad.com/blog/biological-neural-network/\">Source</a></center>"
   ]
  },
  {
   "cell_type": "markdown",
   "id": "0e299e57",
   "metadata": {},
   "source": [
    "# 🔢 Perceptrons\n",
    "Perceptrons...\n",
    "* are one of the simplest ANNs.\n",
    "* were inspired by biological neurons.\n",
    "* receive information through the lines (weights) displayed to the left.\n",
    "* apply an activation function to their received signal and output the result.\n",
    "\n",
    "The numerical signals that are output **do** vary in magnitude!\n",
    "\n",
    "<center><img  src=\"https://github.com/gatorai/aicc23/raw/main/graphics/perceptron.png\" alt='biological neuron'/></center>\n",
    "<center><a href=\"https://wiki.pathmind.com/neural-network\">Source</a></center>"
   ]
  },
  {
   "cell_type": "markdown",
   "id": "a2d0db19",
   "metadata": {},
   "source": [
    "# 📈 Activation Functions\n",
    "Activation functions..\n",
    "* are simple functions that transforms input values.\n",
    "* are used in ANNs to map neuron inputs to neuron outputs (also called neuron *activations*).\n",
    "\n",
    "The non-linear transformation applied by activation functions are vital for networks being used to model non-linear problems.\n",
    "\n",
    "<center><img width=\"500\" src=\"https://github.com/gatorai/aicc23/raw/main/graphics/activation_functions.webp\"/></center>\n",
    "<center><a href=\"https://machine-learning.paperspace.com/wiki/activation-function\">Source</a></center>"
   ]
  },
  {
   "cell_type": "markdown",
   "id": "38016ce3",
   "metadata": {},
   "source": [
    "**✏️ Exercise 1:** Given a single neuron with input **x**, write a simple **linear activation** function using two lines of code."
   ]
  },
  {
   "cell_type": "code",
   "execution_count": 1,
   "id": "ecf3f332",
   "metadata": {},
   "outputs": [],
   "source": [
    "# Write your code here!\n"
   ]
  },
  {
   "cell_type": "markdown",
   "id": "9e19cd29",
   "metadata": {},
   "source": [
    "**✏️ Exercise 2:** Given a single neuron with input **x**, write a simple **ReLU activation** function using two lines of code.\n",
    "\n",
    "Hint: we can use the built-in Python function max(). When you pass two numbers a and b into the max function as max(a,b), the function will return the larger value. *Examples:* <code>max(-2, 3) = 3</code> or <code>max(1.5, 1.1) = 1.5</code>"
   ]
  },
  {
   "cell_type": "code",
   "execution_count": 10,
   "id": "0d33784e",
   "metadata": {},
   "outputs": [],
   "source": [
    "# Write your code here!\n"
   ]
  },
  {
   "cell_type": "markdown",
   "id": "8f01e3b9",
   "metadata": {},
   "source": [
    "🤔 Is the ReLU a **linear** or **non-linear** activation function?"
   ]
  },
  {
   "cell_type": "code",
   "execution_count": 13,
   "id": "000d42e6",
   "metadata": {},
   "outputs": [],
   "source": [
    "# What do you think?"
   ]
  },
  {
   "cell_type": "markdown",
   "id": "63e299b1",
   "metadata": {},
   "source": [
    "<img align=\"left\" width=\"500\" src=\"https://github.com/gatorai/aicc23/raw/main/graphics/TensorFlow_logo.svg.png\"/>\n",
    "<br>"
   ]
  },
  {
   "cell_type": "markdown",
   "id": "5513c56f",
   "metadata": {},
   "source": [
    "# 🕹️ Interactive Demo: TensorFlow <a href='https://playground.tensorflow.org/#activation=linear&batchSize=10&dataset=gauss&regDataset=reg-plane&learningRate=0.03&regularizationRate=0&noise=0&networkShape=1&seed=3.17465&showTestData=false&discretize=false&percTrainData=50&x=true&y=true&xTimesY=false&xSquared=false&ySquared=false&cosX=false&sinX=false&cosY=false&sinY=false&collectStats=false&problem=classification&initZero=false&hideText=false'>Neural Network Playground</a>"
   ]
  }
 ],
 "metadata": {
  "kernelspec": {
   "display_name": "Python 3 (ipykernel)",
   "language": "python",
   "name": "python3"
  },
  "language_info": {
   "codemirror_mode": {
    "name": "ipython",
    "version": 3
   },
   "file_extension": ".py",
   "mimetype": "text/x-python",
   "name": "python",
   "nbconvert_exporter": "python",
   "pygments_lexer": "ipython3",
   "version": "3.9.16"
  }
 },
 "nbformat": 4,
 "nbformat_minor": 5
}
