{
 "cells": [
  {
   "cell_type": "markdown",
   "id": "25babeac",
   "metadata": {
    "id": "25babeac"
   },
   "source": [
    "# 🐍 A Brief Introduction to Python\n",
    "\n",
    "In this module, you will learn the basics of the Python programming language. This material is modified from the University of Florida [Practicum AI](https://practicumai.org).\n",
    "\n",
    "### 📚 After this module, students will be able to:\n",
    "* Define what a variable is and how the basic Python operators work.\n",
    "* Recognize the importance of a consistent coding style and clear documentation.\n",
    "* Analyze Python error messages and identify corrective action to fix them.\n",
    "* Describe the various Python data types and be able to typecast a variable.\n",
    "* Discuss the importance of reusability and how libraries implement this concept.\n",
    "* Use import statements to access library functions.\n",
    "* Write clearly documented single-purpose functions.\n",
    "* Develop a personal coding style which reflects coding best practices."
   ]
  },
  {
   "cell_type": "markdown",
   "id": "5418d338",
   "metadata": {},
   "source": [
    "### 💡 **Before we start, a few important tips:**\n",
    "1. This file is a **Jupyter notebook**. It combines `text cells` and `code cells` and is useful as a hybrid didactic/experiential learning environment. In practice, Jupyter notebooks are often used for rapid code prototyping or communicating code and results in an understandable way.\n",
    "\n",
    "2. Jupyter notebooks are *interactive*, and any code inside a code block is **executable**! Users will see the results of running code blocks directly inside the notebook.\n",
    "\n",
    "3. There are 2 ways to execute a code cell:\n",
    "    1. Select (click) the cell, and click the ▶️ button to the left of the cell to execute the code.\n",
    "    2. Select the cell, and press `Control + Enter` (on Mac, `Command + Enter`)\n",
    "    \n",
    "4. To add a new cell, click the `+ Code` or `+ Text` button in the tool bar at the top of the screen. (*Colab*)\n",
    "\n",
    "5. To delete an entire cell, select the cell and click the 🗑️ button in the cell's tool bar. (*Colab*)"
   ]
  },
  {
   "cell_type": "markdown",
   "id": "1134ab8f",
   "metadata": {
    "id": "1134ab8f"
   },
   "source": [
    "# 🚀 Let's get started!"
   ]
  },
  {
   "cell_type": "markdown",
   "id": "36ab2293",
   "metadata": {
    "id": "36ab2293"
   },
   "source": [
    "## 🔠 Variables"
   ]
  },
  {
   "cell_type": "markdown",
   "id": "41045501",
   "metadata": {
    "id": "41045501"
   },
   "source": [
    "* Variables are names for values.  Or, more precisely, they are named memory locations.\n",
    "* In Python the `=` symbol assigns the value on the right to the name on the left.\n",
    "* The variable is created when a value is assigned to it.\n",
    "Here, Python assigns an integer (whole number) to the variable `age` and a string (text) to the variable `day_of_week`.\n",
    "\n",
    "Let's run the below code to create two new variables and assign them the given values."
   ]
  },
  {
   "cell_type": "code",
   "execution_count": 32,
   "id": "1baffa9d",
   "metadata": {
    "id": "1baffa9d"
   },
   "outputs": [],
   "source": [
    "age = 42\n",
    "day_of_week = 'Wednesday'"
   ]
  },
  {
   "cell_type": "markdown",
   "id": "dab0eaf0",
   "metadata": {
    "id": "dab0eaf0"
   },
   "source": [
    "We will return to naming variables later in this notebook, but for now remember that variable names:\n",
    "\n",
    "* can contain **only** letters, digits and underscores (\"`_`\")\n",
    "* cannot start with a digit\n",
    "* Should be meaningful, describing the data that they hold"
   ]
  },
  {
   "cell_type": "markdown",
   "id": "2f52fa13",
   "metadata": {},
   "source": [
    "#### ✏️ Exercise\n",
    "1. Create a new variable called `first_name` and assign it the value of your first name. ***Hint:*** Since this variable will contain letters, it is known as a string variable. The values stored in string variables must be enclosed by quotation marks. Example: `\"this is some text\"`"
   ]
  },
  {
   "cell_type": "code",
   "execution_count": null,
   "id": "d7d25fb0",
   "metadata": {},
   "outputs": [],
   "source": []
  },
  {
   "cell_type": "markdown",
   "id": "cf40adb4",
   "metadata": {
    "id": "cf40adb4"
   },
   "source": [
    "## 🖨️ Use `print` to display text and variable values\n",
    "* Python has a built-in **function** called `print` that prints (i.e., displays) information to the screen. (Don't worry, we'll discuss functions a bit later.)\n",
    "* Call the function (i.e., tell Python to run it) by using its name, followed by ***input arguments*** (values) to the function (i.e., the things to print) in **parentheses**.\n",
    "* `print` can be used to see what value is contained in a particular variable."
   ]
  },
  {
   "cell_type": "code",
   "execution_count": 12,
   "id": "15d7d43e",
   "metadata": {
    "colab": {
     "base_uri": "https://localhost:8080/"
    },
    "id": "15d7d43e",
    "outputId": "98eaba5a-4121-4d78-dea7-825f713e0905"
   },
   "outputs": [
    {
     "name": "stdout",
     "output_type": "stream",
     "text": [
      "Hello world!\n"
     ]
    }
   ],
   "source": [
    "print('Hello world!')"
   ]
  },
  {
   "cell_type": "code",
   "execution_count": 13,
   "id": "0020d760",
   "metadata": {},
   "outputs": [
    {
     "name": "stdout",
     "output_type": "stream",
     "text": [
      "42\n"
     ]
    }
   ],
   "source": [
    "print(age)"
   ]
  },
  {
   "cell_type": "code",
   "execution_count": 14,
   "id": "1d7e17d4",
   "metadata": {},
   "outputs": [
    {
     "ename": "NameError",
     "evalue": "name 'name' is not defined",
     "output_type": "error",
     "traceback": [
      "\u001b[0;31m---------------------------------------------------------------------------\u001b[0m",
      "\u001b[0;31mNameError\u001b[0m                                 Traceback (most recent call last)",
      "Cell \u001b[0;32mIn[14], line 1\u001b[0m\n\u001b[0;32m----> 1\u001b[0m \u001b[38;5;28mprint\u001b[39m(\u001b[43mname\u001b[49m)\n",
      "\u001b[0;31mNameError\u001b[0m: name 'name' is not defined"
     ]
    }
   ],
   "source": [
    "print(first_name)"
   ]
  },
  {
   "cell_type": "markdown",
   "id": "1d3ccfb3",
   "metadata": {
    "id": "1d3ccfb3"
   },
   "source": [
    "### 💡 Variables must be created before they are used.\n",
    "\n",
    "If a variable doesn't exist yet, or the variable name has been mis-spelled, Python reports an error."
   ]
  },
  {
   "cell_type": "code",
   "execution_count": null,
   "id": "a944d837",
   "metadata": {
    "id": "a944d837"
   },
   "outputs": [],
   "source": [
    "print(last_name)"
   ]
  },
  {
   "cell_type": "markdown",
   "id": "c4f3cd36",
   "metadata": {
    "id": "c4f3cd36"
   },
   "source": [
    "<div style=\"padding: 10px;margin-bottom: 20px;border: thin solid #30335D;border-left-width: 10px;background-color: #fff\">\n",
    "<p><strong>Note:</strong> We expect an error above!</p>\n",
    "You will undoubtedly make mistakes! You will see lots of error messages! Don't worry! We all get them. The trick is to try and figure out how to fix them when we get an error. We will look at error messages in more detail later.\n",
    "</div>\n",
    "\n",
    "In this case, the last line of the error message is:\n",
    "```python\n",
    "NameError: name 'last_name' is not defined\n",
    "```\n",
    "So, we see we have a `NameError` and the explanation is that `last_name` is not defined. Hopefully that reminds us that we haven't created a last_name variable."
   ]
  },
  {
   "cell_type": "markdown",
   "id": "c8bdaf35",
   "metadata": {
    "id": "c8bdaf35"
   },
   "source": [
    "### 🧠  Python keeps track of your variables and their current values (and order matters!).\n",
    "⚠️ Be aware that it is the **order of execution** of cells that is important, ***not the order in which they appear in the notebook***. Nothing stops you from running any code cell in this notebook in any order you like (aside from potential errors!). If different code cells modify the same variable, it can sometimes lead to unexpected behavior.\n",
    "\n",
    "🖱️ To demonstrate this point, let's look at the following 2 code cells.\n",
    "\n",
    "<br>\n",
    "\n",
    "*Code cell 1:*"
   ]
  },
  {
   "cell_type": "code",
   "execution_count": null,
   "id": "bf8c7a64",
   "metadata": {
    "colab": {
     "base_uri": "https://localhost:8080/",
     "height": 186
    },
    "id": "bf8c7a64",
    "outputId": "57daa3a9-4930-4554-bb21-a272fe0bca5f"
   },
   "outputs": [
    {
     "ename": "NameError",
     "evalue": "ignored",
     "output_type": "error",
     "traceback": [
      "\u001b[0;31m---------------------------------------------------------------------------\u001b[0m",
      "\u001b[0;31mNameError\u001b[0m                                 Traceback (most recent call last)",
      "\u001b[0;32m<ipython-input-5-36a6a7edb944>\u001b[0m in \u001b[0;36m<cell line: 2>\u001b[0;34m()\u001b[0m\n\u001b[1;32m      1\u001b[0m \u001b[0;31m# Cell 1\u001b[0m\u001b[0;34m\u001b[0m\u001b[0;34m\u001b[0m\u001b[0m\n\u001b[0;32m----> 2\u001b[0;31m \u001b[0mprint\u001b[0m \u001b[0;34m(\u001b[0m\u001b[0mmyval\u001b[0m\u001b[0;34m)\u001b[0m\u001b[0;34m\u001b[0m\u001b[0;34m\u001b[0m\u001b[0m\n\u001b[0m",
      "\u001b[0;31mNameError\u001b[0m: name 'myval' is not defined"
     ]
    }
   ],
   "source": [
    "print (myval)"
   ]
  },
  {
   "cell_type": "markdown",
   "id": "defff42a",
   "metadata": {},
   "source": [
    "*Code cell 2:*"
   ]
  },
  {
   "cell_type": "code",
   "execution_count": null,
   "id": "d9c1b187",
   "metadata": {
    "id": "d9c1b187"
   },
   "outputs": [],
   "source": [
    "myval = 1"
   ]
  },
  {
   "cell_type": "markdown",
   "id": "19c0f579",
   "metadata": {
    "id": "19c0f579"
   },
   "source": [
    "If you try to execute the cells in order in which they appear (first cell 1, then cell 2), the first cell will give an error. However, if you run cell 2, and **then** run cell 1, it will correctly print the value of `myval` (since the `myval` variable was created by running cell 2.)\n",
    "\n",
    "❗**Important tip:** To prevent confusion (or just to start fresh), it can sometimes be helpful to use the `Runtime -> Restart Runtime` option (*in Colab*), which clears all variables stored in memory. After selecting this option, you will be starting your notebook from a clean slate!"
   ]
  },
  {
   "cell_type": "markdown",
   "id": "4ef66dcd",
   "metadata": {},
   "source": [
    "### 🧮 Variables can be used in calculations.\n",
    "We can use variables in calculations just as if they were values!"
   ]
  },
  {
   "cell_type": "code",
   "execution_count": 19,
   "id": "a7e7c92d",
   "metadata": {},
   "outputs": [
    {
     "name": "stdout",
     "output_type": "stream",
     "text": [
      "43\n"
     ]
    }
   ],
   "source": [
    "age = 40\n",
    "age_plus = age + 3\n",
    "print(age_plus)"
   ]
  },
  {
   "cell_type": "markdown",
   "id": "cba832ba",
   "metadata": {
    "id": "cba832ba"
   },
   "source": [
    "### 📌 Assigning variables\n",
    "If you want to keep a value for future reference, you need to assign it to a variable. Otherwise, the value disappears into the void! For example, after running the cell below, the value of `z` remains `3`, and the value of `9` is lost, because it was not assigned to a variable."
   ]
  },
  {
   "cell_type": "code",
   "execution_count": 25,
   "id": "26a00b2a",
   "metadata": {
    "id": "26a00b2a"
   },
   "outputs": [
    {
     "name": "stdout",
     "output_type": "stream",
     "text": [
      "9\n"
     ]
    }
   ],
   "source": [
    "z = 3\n",
    "print(z + 6)"
   ]
  },
  {
   "cell_type": "code",
   "execution_count": 26,
   "id": "d46c9233",
   "metadata": {
    "id": "d46c9233"
   },
   "outputs": [
    {
     "name": "stdout",
     "output_type": "stream",
     "text": [
      "3\n"
     ]
    }
   ],
   "source": [
    "print(z)"
   ]
  },
  {
   "cell_type": "markdown",
   "id": "546c16fc",
   "metadata": {
    "id": "546c16fc"
   },
   "source": [
    "## 🔢 Order of Operations\n",
    "🎒 Remember the acronym **PEMDAS** from math class? Python follows the same order, evaluating items in the order: **🅿**arentheses, **🅴**xponentiation, **🅼**ultiplication, **🅳**ivision, **🅰**ddition, and **🆂**ubtraction.\n",
    "\n",
    "![GIF with PEMDAS acronym explanation: Parentheses, explonents, multiply, divide, add, subtract](graphics/pemdas.gif)\n",
    "\n",
    "**Parentheses** are helpful in complex expressions and can be used for clarity, but they are not technically required. This aligns with the overall philosophy of Python, that code should be written for clarity of reading.\n",
    "\n",
    "There's a common saying:\n",
    "> Code is written once but read many times."
   ]
  },
  {
   "cell_type": "markdown",
   "id": "nNVTOE9yOQWw",
   "metadata": {
    "id": "nNVTOE9yOQWw"
   },
   "source": [
    "**✏️ Excercise:** Compute this expression: $\\frac{100 - 5^3}{5}$.\n",
    "* *Hint 1:* $5^3$ can be written in code as `5**3` (5^3 does not work!).\n",
    "* *Hint 2:* The answer should be -5.0.\n",
    "* *Hint 3:* 🅿"
   ]
  },
  {
   "cell_type": "code",
   "execution_count": 30,
   "id": "b0750797",
   "metadata": {
    "id": "b0750797"
   },
   "outputs": [
    {
     "data": {
      "text/plain": [
       "-5.0"
      ]
     },
     "execution_count": 30,
     "metadata": {},
     "output_type": "execute_result"
    }
   ],
   "source": [
    "# Add your code here\n"
   ]
  },
  {
   "cell_type": "markdown",
   "id": "b864290b",
   "metadata": {
    "id": "b864290b"
   },
   "source": [
    "**✏️ Excercise:** Divide 15 by 4 and add 6 to it (the answer should be: 9.75)."
   ]
  },
  {
   "cell_type": "code",
   "execution_count": null,
   "id": "39a13254",
   "metadata": {
    "id": "39a13254"
   },
   "outputs": [],
   "source": [
    "# Add your code here\n"
   ]
  },
  {
   "cell_type": "markdown",
   "id": "35a757b5",
   "metadata": {
    "id": "35a757b5"
   },
   "source": [
    "## 🛟 Integer and Float Types\n",
    "\n",
    "Python has many data **types**, or variable formats. Since each type has different properties, it is important to keep track of what type is being used for each variable. Many coding errors are due to variables being stored as the wrong type. Python has a method to determine the type of a variable, the `type()` method.\n",
    "\n",
    "📖 An **integer** is a whole number without a decimal point, while a **float** is a number that includes a decimal point.\n",
    "\n",
    "Let's compare the **type** of `6` and `6.0`. In the cells below, try the code `type(6)` and `type(6.0)`. You should get `int` and `float` respectively for integer and floating point number."
   ]
  },
  {
   "cell_type": "code",
   "execution_count": 31,
   "id": "253572ac",
   "metadata": {},
   "outputs": [
    {
     "data": {
      "text/plain": [
       "int"
      ]
     },
     "execution_count": 31,
     "metadata": {},
     "output_type": "execute_result"
    }
   ],
   "source": [
    "print(type(6))"
   ]
  },
  {
   "cell_type": "code",
   "execution_count": null,
   "id": "fa6d9f42",
   "metadata": {},
   "outputs": [],
   "source": [
    "print(type(6.0))"
   ]
  },
  {
   "cell_type": "markdown",
   "id": "25548dd7",
   "metadata": {
    "id": "25548dd7"
   },
   "source": [
    "**✏️ Excercise:** Let's try looking at the **type** of a variable. Enter the following code in the empty code cell below, and see what you get!\n",
    "\n",
    "\n",
    "```python\n",
    "x = 3.14\n",
    "print(type(x))\n",
    "```\n"
   ]
  },
  {
   "cell_type": "code",
   "execution_count": null,
   "id": "916cb7f6",
   "metadata": {},
   "outputs": [],
   "source": []
  },
  {
   "cell_type": "markdown",
   "id": "aff198cd",
   "metadata": {
    "id": "aff198cd"
   },
   "source": [
    "**✏️ Excercise:** Python will gladly convert a variable from one type to another, if it makes sense. Let's change `x` (which currently has the **float** value `3.14` to an **integer**, and assign the result to a new variable `y`.\n",
    "```python\n",
    "y = int(x)\n",
    "print(type(y))\n",
    "```"
   ]
  },
  {
   "cell_type": "code",
   "execution_count": null,
   "id": "c7808e73",
   "metadata": {
    "id": "c7808e73"
   },
   "outputs": [],
   "source": []
  },
  {
   "cell_type": "markdown",
   "id": "3a5a7cf0",
   "metadata": {
    "id": "3a5a7cf0"
   },
   "source": [
    "**✏️ Excercise:** Finally, let's go the other way: convert an `int` (after running the previous cell, `y=3`) to a `float`:\n",
    "\n",
    "```python\n",
    "z = float(y)\n",
    "print(z)\n",
    "print(type(z))\n",
    "   ```\n",
    "Note the `.0` added to the end to make the integer `3` into the float `3.0`."
   ]
  },
  {
   "cell_type": "code",
   "execution_count": null,
   "id": "4b980b98",
   "metadata": {
    "id": "4b980b98"
   },
   "outputs": [],
   "source": []
  },
  {
   "cell_type": "markdown",
   "id": "8cf74874",
   "metadata": {
    "id": "8cf74874"
   },
   "source": [
    "## 💬 Use #`comments` to add documentation to programs.\n",
    "\n",
    "* Any text on a line **after the `#` symbol** is considered a **comment** and is ***ignored*** by the Python interpreter.\n",
    "\n",
    "* Comments are very useful for explaining lines or sections of code (for your team and even future self!)\n",
    "\n",
    "* In addition to comments, *strive to make your code self-documenting and easy to read*. Clear variable names, consistent structure and spacing, and logical flow all contribute to readability."
   ]
  },
  {
   "cell_type": "code",
   "execution_count": null,
   "id": "d68f7746",
   "metadata": {
    "id": "d68f7746"
   },
   "outputs": [],
   "source": [
    "# This sentence isn't executed by Python.\n",
    "adjustment = 0.5   # Neither is this - anything after '#' is ignored."
   ]
  },
  {
   "cell_type": "markdown",
   "id": "cd2873a3",
   "metadata": {
    "id": "cd2873a3"
   },
   "source": [
    "# 📚 Libraries\n",
    "### 📘 The power of a programming language is in its libraries.\n",
    "\n",
    "* A *library* is a collection of Python files (called *modules*) that contains pre-written code for use by other programs.\n",
    "* The Python *standard library* is built-in to Python itself (we've seen some examples: `print`, `type`)\n",
    "* Many additional libraries are available from [PyPI](https://pypi.python.org/pypi/) (the Python Package Index) and [GitHub](https://github.com).\n",
    "    * ***Coding for AI and machine learning relies heavily on libraries!***\n",
    "\n",
    "📙 **Note:** A library is technically a collection of modules, but **the terms are often used interchangeably**, especially since many libraries only consist of a single module.\n",
    "\n",
    "### 📥 A Python file must `import` a library module before using it.\n",
    "\n",
    "* Use `import` to load a library module into a program's memory.\n",
    "* Then refer to things from the module as `module_name.thing_name`.\n",
    "    * Python uses `.` to mean \"part of\".\n",
    "* Here is an example of using the `math` library, one of the libraries in the standard library:"
   ]
  },
  {
   "cell_type": "code",
   "execution_count": 33,
   "id": "fdced80b",
   "metadata": {
    "id": "fdced80b"
   },
   "outputs": [
    {
     "name": "stdout",
     "output_type": "stream",
     "text": [
      "pi is 3.141592653589793\n",
      "cos(pi) is -1.0\n"
     ]
    }
   ],
   "source": [
    "import math\n",
    "print('pi is', math.pi)\n",
    "print('cos(pi) is', math.cos(math.pi))"
   ]
  },
  {
   "cell_type": "markdown",
   "id": "c63a25a4",
   "metadata": {
    "id": "c63a25a4"
   },
   "source": [
    "### 🤝 Use `help` to learn about the contents of a library module."
   ]
  },
  {
   "cell_type": "code",
   "execution_count": 35,
   "id": "5818b9ab",
   "metadata": {
    "id": "5818b9ab"
   },
   "outputs": [
    {
     "name": "stdout",
     "output_type": "stream",
     "text": [
      "Help on module math:\n",
      "\n",
      "NAME\n",
      "    math\n",
      "\n",
      "MODULE REFERENCE\n",
      "    https://docs.python.org/3.9/library/math\n",
      "    \n",
      "    The following documentation is automatically generated from the Python\n",
      "    source files.  It may be incomplete, incorrect or include features that\n",
      "    are considered implementation detail and may vary between Python\n",
      "    implementations.  When in doubt, consult the module reference at the\n",
      "    location listed above.\n",
      "\n",
      "DESCRIPTION\n",
      "    This module provides access to the mathematical functions\n",
      "    defined by the C standard.\n",
      "\n",
      "FUNCTIONS\n",
      "    acos(x, /)\n",
      "        Return the arc cosine (measured in radians) of x.\n",
      "        \n",
      "        The result is between 0 and pi.\n",
      "    \n",
      "    acosh(x, /)\n",
      "        Return the inverse hyperbolic cosine of x.\n",
      "    \n",
      "    asin(x, /)\n",
      "        Return the arc sine (measured in radians) of x.\n",
      "        \n",
      "        The result is between -pi/2 and pi/2.\n",
      "    \n",
      "    asinh(x, /)\n",
      "        Return the inverse hyperbolic sine of x.\n",
      "    \n",
      "    atan(x, /)\n",
      "        Return the arc tangent (measured in radians) of x.\n",
      "        \n",
      "        The result is between -pi/2 and pi/2.\n",
      "    \n",
      "    atan2(y, x, /)\n",
      "        Return the arc tangent (measured in radians) of y/x.\n",
      "        \n",
      "        Unlike atan(y/x), the signs of both x and y are considered.\n",
      "    \n",
      "    atanh(x, /)\n",
      "        Return the inverse hyperbolic tangent of x.\n",
      "    \n",
      "    ceil(x, /)\n",
      "        Return the ceiling of x as an Integral.\n",
      "        \n",
      "        This is the smallest integer >= x.\n",
      "    \n",
      "    comb(n, k, /)\n",
      "        Number of ways to choose k items from n items without repetition and without order.\n",
      "        \n",
      "        Evaluates to n! / (k! * (n - k)!) when k <= n and evaluates\n",
      "        to zero when k > n.\n",
      "        \n",
      "        Also called the binomial coefficient because it is equivalent\n",
      "        to the coefficient of k-th term in polynomial expansion of the\n",
      "        expression (1 + x)**n.\n",
      "        \n",
      "        Raises TypeError if either of the arguments are not integers.\n",
      "        Raises ValueError if either of the arguments are negative.\n",
      "    \n",
      "    copysign(x, y, /)\n",
      "        Return a float with the magnitude (absolute value) of x but the sign of y.\n",
      "        \n",
      "        On platforms that support signed zeros, copysign(1.0, -0.0)\n",
      "        returns -1.0.\n",
      "    \n",
      "    cos(x, /)\n",
      "        Return the cosine of x (measured in radians).\n",
      "    \n",
      "    cosh(x, /)\n",
      "        Return the hyperbolic cosine of x.\n",
      "    \n",
      "    degrees(x, /)\n",
      "        Convert angle x from radians to degrees.\n",
      "    \n",
      "    dist(p, q, /)\n",
      "        Return the Euclidean distance between two points p and q.\n",
      "        \n",
      "        The points should be specified as sequences (or iterables) of\n",
      "        coordinates.  Both inputs must have the same dimension.\n",
      "        \n",
      "        Roughly equivalent to:\n",
      "            sqrt(sum((px - qx) ** 2.0 for px, qx in zip(p, q)))\n",
      "    \n",
      "    erf(x, /)\n",
      "        Error function at x.\n",
      "    \n",
      "    erfc(x, /)\n",
      "        Complementary error function at x.\n",
      "    \n",
      "    exp(x, /)\n",
      "        Return e raised to the power of x.\n",
      "    \n",
      "    expm1(x, /)\n",
      "        Return exp(x)-1.\n",
      "        \n",
      "        This function avoids the loss of precision involved in the direct evaluation of exp(x)-1 for small x.\n",
      "    \n",
      "    fabs(x, /)\n",
      "        Return the absolute value of the float x.\n",
      "    \n",
      "    factorial(x, /)\n",
      "        Find x!.\n",
      "        \n",
      "        Raise a ValueError if x is negative or non-integral.\n",
      "    \n",
      "    floor(x, /)\n",
      "        Return the floor of x as an Integral.\n",
      "        \n",
      "        This is the largest integer <= x.\n",
      "    \n",
      "    fmod(x, y, /)\n",
      "        Return fmod(x, y), according to platform C.\n",
      "        \n",
      "        x % y may differ.\n",
      "    \n",
      "    frexp(x, /)\n",
      "        Return the mantissa and exponent of x, as pair (m, e).\n",
      "        \n",
      "        m is a float and e is an int, such that x = m * 2.**e.\n",
      "        If x is 0, m and e are both 0.  Else 0.5 <= abs(m) < 1.0.\n",
      "    \n",
      "    fsum(seq, /)\n",
      "        Return an accurate floating point sum of values in the iterable seq.\n",
      "        \n",
      "        Assumes IEEE-754 floating point arithmetic.\n",
      "    \n",
      "    gamma(x, /)\n",
      "        Gamma function at x.\n",
      "    \n",
      "    gcd(*integers)\n",
      "        Greatest Common Divisor.\n",
      "    \n",
      "    hypot(...)\n",
      "        hypot(*coordinates) -> value\n",
      "        \n",
      "        Multidimensional Euclidean distance from the origin to a point.\n",
      "        \n",
      "        Roughly equivalent to:\n",
      "            sqrt(sum(x**2 for x in coordinates))\n",
      "        \n",
      "        For a two dimensional point (x, y), gives the hypotenuse\n",
      "        using the Pythagorean theorem:  sqrt(x*x + y*y).\n",
      "        \n",
      "        For example, the hypotenuse of a 3/4/5 right triangle is:\n",
      "        \n",
      "            >>> hypot(3.0, 4.0)\n",
      "            5.0\n",
      "    \n",
      "    isclose(a, b, *, rel_tol=1e-09, abs_tol=0.0)\n",
      "        Determine whether two floating point numbers are close in value.\n",
      "        \n",
      "          rel_tol\n",
      "            maximum difference for being considered \"close\", relative to the\n",
      "            magnitude of the input values\n",
      "          abs_tol\n",
      "            maximum difference for being considered \"close\", regardless of the\n",
      "            magnitude of the input values\n",
      "        \n",
      "        Return True if a is close in value to b, and False otherwise.\n",
      "        \n",
      "        For the values to be considered close, the difference between them\n",
      "        must be smaller than at least one of the tolerances.\n",
      "        \n",
      "        -inf, inf and NaN behave similarly to the IEEE 754 Standard.  That\n",
      "        is, NaN is not close to anything, even itself.  inf and -inf are\n",
      "        only close to themselves.\n",
      "    \n",
      "    isfinite(x, /)\n",
      "        Return True if x is neither an infinity nor a NaN, and False otherwise.\n",
      "    \n",
      "    isinf(x, /)\n",
      "        Return True if x is a positive or negative infinity, and False otherwise.\n",
      "    \n",
      "    isnan(x, /)\n",
      "        Return True if x is a NaN (not a number), and False otherwise.\n",
      "    \n",
      "    isqrt(n, /)\n",
      "        Return the integer part of the square root of the input.\n",
      "    \n",
      "    lcm(*integers)\n",
      "        Least Common Multiple.\n",
      "    \n",
      "    ldexp(x, i, /)\n",
      "        Return x * (2**i).\n",
      "        \n",
      "        This is essentially the inverse of frexp().\n",
      "    \n",
      "    lgamma(x, /)\n",
      "        Natural logarithm of absolute value of Gamma function at x.\n",
      "    \n",
      "    log(...)\n",
      "        log(x, [base=math.e])\n",
      "        Return the logarithm of x to the given base.\n",
      "        \n",
      "        If the base not specified, returns the natural logarithm (base e) of x.\n",
      "    \n",
      "    log10(x, /)\n",
      "        Return the base 10 logarithm of x.\n",
      "    \n",
      "    log1p(x, /)\n",
      "        Return the natural logarithm of 1+x (base e).\n",
      "        \n",
      "        The result is computed in a way which is accurate for x near zero.\n",
      "    \n",
      "    log2(x, /)\n",
      "        Return the base 2 logarithm of x.\n",
      "    \n",
      "    modf(x, /)\n",
      "        Return the fractional and integer parts of x.\n",
      "        \n",
      "        Both results carry the sign of x and are floats.\n",
      "    \n",
      "    nextafter(x, y, /)\n",
      "        Return the next floating-point value after x towards y.\n",
      "    \n",
      "    perm(n, k=None, /)\n",
      "        Number of ways to choose k items from n items without repetition and with order.\n",
      "        \n",
      "        Evaluates to n! / (n - k)! when k <= n and evaluates\n",
      "        to zero when k > n.\n",
      "        \n",
      "        If k is not specified or is None, then k defaults to n\n",
      "        and the function returns n!.\n",
      "        \n",
      "        Raises TypeError if either of the arguments are not integers.\n",
      "        Raises ValueError if either of the arguments are negative.\n",
      "    \n",
      "    pow(x, y, /)\n",
      "        Return x**y (x to the power of y).\n",
      "    \n",
      "    prod(iterable, /, *, start=1)\n",
      "        Calculate the product of all the elements in the input iterable.\n",
      "        \n",
      "        The default start value for the product is 1.\n",
      "        \n",
      "        When the iterable is empty, return the start value.  This function is\n",
      "        intended specifically for use with numeric values and may reject\n",
      "        non-numeric types.\n",
      "    \n",
      "    radians(x, /)\n",
      "        Convert angle x from degrees to radians.\n",
      "    \n",
      "    remainder(x, y, /)\n",
      "        Difference between x and the closest integer multiple of y.\n",
      "        \n",
      "        Return x - n*y where n*y is the closest integer multiple of y.\n",
      "        In the case where x is exactly halfway between two multiples of\n",
      "        y, the nearest even value of n is used. The result is always exact.\n",
      "    \n",
      "    sin(x, /)\n",
      "        Return the sine of x (measured in radians).\n",
      "    \n",
      "    sinh(x, /)\n",
      "        Return the hyperbolic sine of x.\n",
      "    \n",
      "    sqrt(x, /)\n",
      "        Return the square root of x.\n",
      "    \n",
      "    tan(x, /)\n",
      "        Return the tangent of x (measured in radians).\n",
      "    \n",
      "    tanh(x, /)\n",
      "        Return the hyperbolic tangent of x.\n",
      "    \n",
      "    trunc(x, /)\n",
      "        Truncates the Real x to the nearest Integral toward 0.\n",
      "        \n",
      "        Uses the __trunc__ magic method.\n",
      "    \n",
      "    ulp(x, /)\n",
      "        Return the value of the least significant bit of the float x.\n",
      "\n",
      "DATA\n",
      "    e = 2.718281828459045\n",
      "    inf = inf\n",
      "    nan = nan\n",
      "    pi = 3.141592653589793\n",
      "    tau = 6.283185307179586\n",
      "\n",
      "FILE\n",
      "    /Users/ben/opt/anaconda3/envs/main/lib/python3.9/lib-dynload/math.cpython-39-darwin.so\n",
      "\n",
      "\n"
     ]
    }
   ],
   "source": [
    "help(math)"
   ]
  },
  {
   "cell_type": "markdown",
   "id": "5071cf2d",
   "metadata": {
    "id": "Ic5O-JZ73I7f"
   },
   "source": [
    "# ⚙️ Functions\n",
    "\n",
    "![Function](graphics/191px-Function_machine2.svg.png)\n",
    "\n",
    "* You can use **functions** to convert mutliple lines of code to a single line that can be reused anywhere.\n",
    "\n",
    "* Functions make coding easier to write, read and maintain. \n",
    "\n",
    "💡It might be time to write a function when you're about to copy and paste code from one section into another to re-use it."
   ]
  },
  {
   "cell_type": "markdown",
   "id": "c73c7464",
   "metadata": {},
   "source": [
    "## 📝 Defining a Python function\n",
    "\n",
    "📌 Below are the steps to creating your first Python function. A function must be defined before it can be used.\n",
    "\n",
    "1. Begin the definition of a new function with `def`, followed by an appropriate name for the function.\n",
    "2. Then, add parentheses `()` after the function name.\n",
    "3. Inside the parentheses, list any number of **input arguments**, separated by commas `,`, that your function will use (many functions take **no arguments**).\n",
    "4. Add a colon `:` after the closing parentheses.\n",
    "5. If you want the function to output something, add a `return` statement, followed by the variable or expression you want to return. A `return` statement is not necessary!\n",
    "6. **Important:** All code inside a function must be **indented** using tab or four spaces.\n",
    "\n",
    "🔍 Here's an example of a simple function that takes as input two numbers, and outputs the sum:\n",
    "\n",
    "```python\n",
    "def add(x,y):\n",
    "    return x + y\n",
    "```\n",
    "\n",
    "**✏️Exercise:** Define the `add` function in code below:"
   ]
  },
  {
   "cell_type": "code",
   "execution_count": null,
   "id": "7398c39b",
   "metadata": {},
   "outputs": [],
   "source": [
    "# *Define* the add function displayed above\n"
   ]
  },
  {
   "cell_type": "markdown",
   "id": "b4d5b12c",
   "metadata": {},
   "source": [
    "📌 **Defining** a function does not run the code inside the function, it simply creates the function for later use.\n",
    "\n",
    "To **call** a function, write it's name followed by zero or more comma-separated input arguments. Here's an example of defining, and then calling, a simple function: \n",
    "\n",
    "```python\n",
    "# Define the function\n",
    "def print_number(a):\n",
    "    print(a)\n",
    "    \n",
    "# Call the function\n",
    "a = 7\n",
    "print_number(a) # One way\n",
    "print_number(7) # Another way\n",
    "```"
   ]
  },
  {
   "cell_type": "markdown",
   "id": "eebb7097",
   "metadata": {},
   "source": [
    "**✏️Exercise:** Call the `add` function we already defined, to add two numbers of your choosing."
   ]
  },
  {
   "cell_type": "code",
   "execution_count": 36,
   "id": "000b30bf",
   "metadata": {},
   "outputs": [],
   "source": [
    "# *Call* the add function using any two numbers\n"
   ]
  },
  {
   "cell_type": "markdown",
   "id": "cc0e03c7",
   "metadata": {},
   "source": [
    "**✏️ Exercise:** Create a function that takes **any** number as input, and outputs the **square** of that number. Example: An input of 6 will output 36. **Hint:** In Python code, `x ** x` will compute $x^2$. "
   ]
  },
  {
   "cell_type": "code",
   "execution_count": 4,
   "id": "2c837d51",
   "metadata": {},
   "outputs": [],
   "source": [
    "# Create a function to compute the square of any input number.\n"
   ]
  },
  {
   "cell_type": "markdown",
   "id": "ec54678e",
   "metadata": {},
   "source": [
    "## 🎁 BONUS: Positional arguments\n",
    "\n",
    "In the `add` function above, `x` and `y` are **positional arguments** - the order arguments are passed to the function matters."
   ]
  },
  {
   "cell_type": "code",
   "execution_count": 38,
   "id": "dd33fc6d",
   "metadata": {},
   "outputs": [
    {
     "name": "stdout",
     "output_type": "stream",
     "text": [
      "3\n",
      "4\n",
      "\n",
      "4\n",
      "3\n"
     ]
    }
   ],
   "source": [
    "def order(x,y):\n",
    "    print(x)\n",
    "    print(y)\n",
    "    \n",
    "order(3,4)\n",
    "print() # print() with no arguments will add a blank line to the output.\n",
    "order(4,3)"
   ]
  },
  {
   "cell_type": "markdown",
   "id": "74092fa8",
   "metadata": {},
   "source": [
    "## 🎁 (BONUS) Default values\n",
    "\n",
    "* Functions may have default values for some input arguments.\n",
    "* If an argument has a default value, the function will use that value unless the user specifies something different for that particular variable."
   ]
  },
  {
   "cell_type": "code",
   "execution_count": 39,
   "id": "68b38517",
   "metadata": {},
   "outputs": [
    {
     "name": "stdout",
     "output_type": "stream",
     "text": [
      "3\n",
      "8\n"
     ]
    }
   ],
   "source": [
    "def add(x,y=1):\n",
    "    result = x + y\n",
    "    return result\n",
    "\n",
    "print(add(2))\n",
    "\n",
    "print(add(2,6))"
   ]
  },
  {
   "cell_type": "markdown",
   "id": "1f2593a9",
   "metadata": {},
   "source": [
    "## 🎁 (BONUS) Function variable scope\n",
    "\n",
    "* Variables created inside functions are **locally scoped**, which means they are only accessible inside of the function that created them.\n",
    "    * Once the function has been executed, any variables created inside the function are removed from memory! (Use `return` to send the outputs back to the main program)\n",
    "* Variables created outside of functions are **globally scoped**, and can be accesssed anywhere once the variable is created."
   ]
  },
  {
   "cell_type": "code",
   "execution_count": 41,
   "id": "16ae018e",
   "metadata": {},
   "outputs": [
    {
     "ename": "NameError",
     "evalue": "name 'x' is not defined",
     "output_type": "error",
     "traceback": [
      "\u001b[0;31m---------------------------------------------------------------------------\u001b[0m",
      "\u001b[0;31mNameError\u001b[0m                                 Traceback (most recent call last)",
      "Cell \u001b[0;32mIn[41], line 9\u001b[0m\n\u001b[1;32m      6\u001b[0m waste_of_code()\n\u001b[1;32m      8\u001b[0m \u001b[38;5;66;03m# This will result in an error! (x has not been defined outside of the function)\u001b[39;00m\n\u001b[0;32m----> 9\u001b[0m \u001b[38;5;28mprint\u001b[39m(\u001b[43mx\u001b[49m)\n",
      "\u001b[0;31mNameError\u001b[0m: name 'x' is not defined"
     ]
    }
   ],
   "source": [
    "def waste_of_code(): # This function doesn't do anything!\n",
    "    x = 3\n",
    "\n",
    "# Let's optimistically call the waste_of_code() function.\n",
    "# Perhaps we would expect to now have a variable x with value equal to 3.\n",
    "waste_of_code()\n",
    "    \n",
    "# This will result in an error! (x has not been defined outside of the function)\n",
    "print(x)"
   ]
  },
  {
   "cell_type": "markdown",
   "id": "5c131696",
   "metadata": {},
   "source": [
    "# 🤝 Use `help` to learn about the contents of a library, module, or function."
   ]
  },
  {
   "cell_type": "code",
   "execution_count": 44,
   "id": "c1cfc03f",
   "metadata": {},
   "outputs": [
    {
     "name": "stdout",
     "output_type": "stream",
     "text": [
      "Help on module math:\n",
      "\n",
      "NAME\n",
      "    math\n",
      "\n",
      "MODULE REFERENCE\n",
      "    https://docs.python.org/3.9/library/math\n",
      "    \n",
      "    The following documentation is automatically generated from the Python\n",
      "    source files.  It may be incomplete, incorrect or include features that\n",
      "    are considered implementation detail and may vary between Python\n",
      "    implementations.  When in doubt, consult the module reference at the\n",
      "    location listed above.\n",
      "\n",
      "DESCRIPTION\n",
      "    This module provides access to the mathematical functions\n",
      "    defined by the C standard.\n",
      "\n",
      "FUNCTIONS\n",
      "    acos(x, /)\n",
      "        Return the arc cosine (measured in radians) of x.\n",
      "        \n",
      "        The result is between 0 and pi.\n",
      "    \n",
      "    acosh(x, /)\n",
      "        Return the inverse hyperbolic cosine of x.\n",
      "    \n",
      "    asin(x, /)\n",
      "        Return the arc sine (measured in radians) of x.\n",
      "        \n",
      "        The result is between -pi/2 and pi/2.\n",
      "    \n",
      "    asinh(x, /)\n",
      "        Return the inverse hyperbolic sine of x.\n",
      "    \n",
      "    atan(x, /)\n",
      "        Return the arc tangent (measured in radians) of x.\n",
      "        \n",
      "        The result is between -pi/2 and pi/2.\n",
      "    \n",
      "    atan2(y, x, /)\n",
      "        Return the arc tangent (measured in radians) of y/x.\n",
      "        \n",
      "        Unlike atan(y/x), the signs of both x and y are considered.\n",
      "    \n",
      "    atanh(x, /)\n",
      "        Return the inverse hyperbolic tangent of x.\n",
      "    \n",
      "    ceil(x, /)\n",
      "        Return the ceiling of x as an Integral.\n",
      "        \n",
      "        This is the smallest integer >= x.\n",
      "    \n",
      "    comb(n, k, /)\n",
      "        Number of ways to choose k items from n items without repetition and without order.\n",
      "        \n",
      "        Evaluates to n! / (k! * (n - k)!) when k <= n and evaluates\n",
      "        to zero when k > n.\n",
      "        \n",
      "        Also called the binomial coefficient because it is equivalent\n",
      "        to the coefficient of k-th term in polynomial expansion of the\n",
      "        expression (1 + x)**n.\n",
      "        \n",
      "        Raises TypeError if either of the arguments are not integers.\n",
      "        Raises ValueError if either of the arguments are negative.\n",
      "    \n",
      "    copysign(x, y, /)\n",
      "        Return a float with the magnitude (absolute value) of x but the sign of y.\n",
      "        \n",
      "        On platforms that support signed zeros, copysign(1.0, -0.0)\n",
      "        returns -1.0.\n",
      "    \n",
      "    cos(x, /)\n",
      "        Return the cosine of x (measured in radians).\n",
      "    \n",
      "    cosh(x, /)\n",
      "        Return the hyperbolic cosine of x.\n",
      "    \n",
      "    degrees(x, /)\n",
      "        Convert angle x from radians to degrees.\n",
      "    \n",
      "    dist(p, q, /)\n",
      "        Return the Euclidean distance between two points p and q.\n",
      "        \n",
      "        The points should be specified as sequences (or iterables) of\n",
      "        coordinates.  Both inputs must have the same dimension.\n",
      "        \n",
      "        Roughly equivalent to:\n",
      "            sqrt(sum((px - qx) ** 2.0 for px, qx in zip(p, q)))\n",
      "    \n",
      "    erf(x, /)\n",
      "        Error function at x.\n",
      "    \n",
      "    erfc(x, /)\n",
      "        Complementary error function at x.\n",
      "    \n",
      "    exp(x, /)\n",
      "        Return e raised to the power of x.\n",
      "    \n",
      "    expm1(x, /)\n",
      "        Return exp(x)-1.\n",
      "        \n",
      "        This function avoids the loss of precision involved in the direct evaluation of exp(x)-1 for small x.\n",
      "    \n",
      "    fabs(x, /)\n",
      "        Return the absolute value of the float x.\n",
      "    \n",
      "    factorial(x, /)\n",
      "        Find x!.\n",
      "        \n",
      "        Raise a ValueError if x is negative or non-integral.\n",
      "    \n",
      "    floor(x, /)\n",
      "        Return the floor of x as an Integral.\n",
      "        \n",
      "        This is the largest integer <= x.\n",
      "    \n",
      "    fmod(x, y, /)\n",
      "        Return fmod(x, y), according to platform C.\n",
      "        \n",
      "        x % y may differ.\n",
      "    \n",
      "    frexp(x, /)\n",
      "        Return the mantissa and exponent of x, as pair (m, e).\n",
      "        \n",
      "        m is a float and e is an int, such that x = m * 2.**e.\n",
      "        If x is 0, m and e are both 0.  Else 0.5 <= abs(m) < 1.0.\n",
      "    \n",
      "    fsum(seq, /)\n",
      "        Return an accurate floating point sum of values in the iterable seq.\n",
      "        \n",
      "        Assumes IEEE-754 floating point arithmetic.\n",
      "    \n",
      "    gamma(x, /)\n",
      "        Gamma function at x.\n",
      "    \n",
      "    gcd(*integers)\n",
      "        Greatest Common Divisor.\n",
      "    \n",
      "    hypot(...)\n",
      "        hypot(*coordinates) -> value\n",
      "        \n",
      "        Multidimensional Euclidean distance from the origin to a point.\n",
      "        \n",
      "        Roughly equivalent to:\n",
      "            sqrt(sum(x**2 for x in coordinates))\n",
      "        \n",
      "        For a two dimensional point (x, y), gives the hypotenuse\n",
      "        using the Pythagorean theorem:  sqrt(x*x + y*y).\n",
      "        \n",
      "        For example, the hypotenuse of a 3/4/5 right triangle is:\n",
      "        \n",
      "            >>> hypot(3.0, 4.0)\n",
      "            5.0\n",
      "    \n",
      "    isclose(a, b, *, rel_tol=1e-09, abs_tol=0.0)\n",
      "        Determine whether two floating point numbers are close in value.\n",
      "        \n",
      "          rel_tol\n",
      "            maximum difference for being considered \"close\", relative to the\n",
      "            magnitude of the input values\n",
      "          abs_tol\n",
      "            maximum difference for being considered \"close\", regardless of the\n",
      "            magnitude of the input values\n",
      "        \n",
      "        Return True if a is close in value to b, and False otherwise.\n",
      "        \n",
      "        For the values to be considered close, the difference between them\n",
      "        must be smaller than at least one of the tolerances.\n",
      "        \n",
      "        -inf, inf and NaN behave similarly to the IEEE 754 Standard.  That\n",
      "        is, NaN is not close to anything, even itself.  inf and -inf are\n",
      "        only close to themselves.\n",
      "    \n",
      "    isfinite(x, /)\n",
      "        Return True if x is neither an infinity nor a NaN, and False otherwise.\n",
      "    \n",
      "    isinf(x, /)\n",
      "        Return True if x is a positive or negative infinity, and False otherwise.\n",
      "    \n",
      "    isnan(x, /)\n",
      "        Return True if x is a NaN (not a number), and False otherwise.\n",
      "    \n",
      "    isqrt(n, /)\n",
      "        Return the integer part of the square root of the input.\n",
      "    \n",
      "    lcm(*integers)\n",
      "        Least Common Multiple.\n",
      "    \n",
      "    ldexp(x, i, /)\n",
      "        Return x * (2**i).\n",
      "        \n",
      "        This is essentially the inverse of frexp().\n",
      "    \n",
      "    lgamma(x, /)\n",
      "        Natural logarithm of absolute value of Gamma function at x.\n",
      "    \n",
      "    log(...)\n",
      "        log(x, [base=math.e])\n",
      "        Return the logarithm of x to the given base.\n",
      "        \n",
      "        If the base not specified, returns the natural logarithm (base e) of x.\n",
      "    \n",
      "    log10(x, /)\n",
      "        Return the base 10 logarithm of x.\n",
      "    \n",
      "    log1p(x, /)\n",
      "        Return the natural logarithm of 1+x (base e).\n",
      "        \n",
      "        The result is computed in a way which is accurate for x near zero.\n",
      "    \n",
      "    log2(x, /)\n",
      "        Return the base 2 logarithm of x.\n",
      "    \n",
      "    modf(x, /)\n",
      "        Return the fractional and integer parts of x.\n",
      "        \n",
      "        Both results carry the sign of x and are floats.\n",
      "    \n",
      "    nextafter(x, y, /)\n",
      "        Return the next floating-point value after x towards y.\n",
      "    \n",
      "    perm(n, k=None, /)\n",
      "        Number of ways to choose k items from n items without repetition and with order.\n",
      "        \n",
      "        Evaluates to n! / (n - k)! when k <= n and evaluates\n",
      "        to zero when k > n.\n",
      "        \n",
      "        If k is not specified or is None, then k defaults to n\n",
      "        and the function returns n!.\n",
      "        \n",
      "        Raises TypeError if either of the arguments are not integers.\n",
      "        Raises ValueError if either of the arguments are negative.\n",
      "    \n",
      "    pow(x, y, /)\n",
      "        Return x**y (x to the power of y).\n",
      "    \n",
      "    prod(iterable, /, *, start=1)\n",
      "        Calculate the product of all the elements in the input iterable.\n",
      "        \n",
      "        The default start value for the product is 1.\n",
      "        \n",
      "        When the iterable is empty, return the start value.  This function is\n",
      "        intended specifically for use with numeric values and may reject\n",
      "        non-numeric types.\n",
      "    \n",
      "    radians(x, /)\n",
      "        Convert angle x from degrees to radians.\n",
      "    \n",
      "    remainder(x, y, /)\n",
      "        Difference between x and the closest integer multiple of y.\n",
      "        \n",
      "        Return x - n*y where n*y is the closest integer multiple of y.\n",
      "        In the case where x is exactly halfway between two multiples of\n",
      "        y, the nearest even value of n is used. The result is always exact.\n",
      "    \n",
      "    sin(x, /)\n",
      "        Return the sine of x (measured in radians).\n",
      "    \n",
      "    sinh(x, /)\n",
      "        Return the hyperbolic sine of x.\n",
      "    \n",
      "    sqrt(x, /)\n",
      "        Return the square root of x.\n",
      "    \n",
      "    tan(x, /)\n",
      "        Return the tangent of x (measured in radians).\n",
      "    \n",
      "    tanh(x, /)\n",
      "        Return the hyperbolic tangent of x.\n",
      "    \n",
      "    trunc(x, /)\n",
      "        Truncates the Real x to the nearest Integral toward 0.\n",
      "        \n",
      "        Uses the __trunc__ magic method.\n",
      "    \n",
      "    ulp(x, /)\n",
      "        Return the value of the least significant bit of the float x.\n",
      "\n",
      "DATA\n",
      "    e = 2.718281828459045\n",
      "    inf = inf\n",
      "    nan = nan\n",
      "    pi = 3.141592653589793\n",
      "    tau = 6.283185307179586\n",
      "\n",
      "FILE\n",
      "    /Users/ben/opt/anaconda3/envs/main/lib/python3.9/lib-dynload/math.cpython-39-darwin.so\n",
      "\n",
      "\n"
     ]
    }
   ],
   "source": [
    "help(math)"
   ]
  },
  {
   "cell_type": "code",
   "execution_count": 45,
   "id": "ae561404",
   "metadata": {},
   "outputs": [
    {
     "name": "stdout",
     "output_type": "stream",
     "text": [
      "Help on built-in function print in module builtins:\n",
      "\n",
      "print(...)\n",
      "    print(value, ..., sep=' ', end='\\n', file=sys.stdout, flush=False)\n",
      "    \n",
      "    Prints the values to a stream, or to sys.stdout by default.\n",
      "    Optional keyword arguments:\n",
      "    file:  a file-like object (stream); defaults to the current sys.stdout.\n",
      "    sep:   string inserted between values, default a space.\n",
      "    end:   string appended after the last value, default a newline.\n",
      "    flush: whether to forcibly flush the stream.\n",
      "\n"
     ]
    }
   ],
   "source": [
    "help(print)"
   ]
  }
 ],
 "metadata": {
  "colab": {
   "provenance": []
  },
  "kernelspec": {
   "display_name": "Python 3 (ipykernel)",
   "language": "python",
   "name": "python3"
  },
  "language_info": {
   "codemirror_mode": {
    "name": "ipython",
    "version": 3
   },
   "file_extension": ".py",
   "mimetype": "text/x-python",
   "name": "python",
   "nbconvert_exporter": "python",
   "pygments_lexer": "ipython3",
   "version": "3.9.16"
  },
  "vscode": {
   "interpreter": {
    "hash": "442d0c0e479a9a390f050bd5e20dc551a2c9cfe478296c9d47f476f59d719e25"
   }
  }
 },
 "nbformat": 4,
 "nbformat_minor": 5
}
