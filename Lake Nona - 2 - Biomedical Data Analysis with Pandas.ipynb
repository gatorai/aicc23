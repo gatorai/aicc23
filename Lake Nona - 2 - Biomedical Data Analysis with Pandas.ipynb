{
 "cells": [
  {
   "cell_type": "markdown",
   "id": "6a8b3c41",
   "metadata": {
    "id": "6a8b3c41"
   },
   "source": [
    "# 📊 Biomedical Data Analysis with Pandas\n",
    "\n",
    "In this module, you will learn about one of the most popular and useful Python libraries for data analysis and manipulation: ***pandas***!\n",
    "\n",
    "<img src='graphics/pandas_logo.png' alt='The Pandas logo' align='center' width=200>"
   ]
  },
  {
   "cell_type": "markdown",
   "id": "c1b3e4cd",
   "metadata": {},
   "source": [
    "### 📚 After this module, students will be able to:\n",
    "* Explain the various components of a *pandas* dataframe.\n",
    "* Use read_csv() to create new dataframes from real-world patient data.\n",
    "* Slice and dice data with *pandas* index and dataframe management functions.\n",
    "* Illustrate the appropriate use of basic statistical functions to summarize a clinical dataset.\n",
    "* Use matplotlib functions to generate clear graphs and plots.\n",
    "\n",
    "🩺 While pandas is widely used across many domains, in this lesson we'll be exploring *pandas* in the context of **healthcare data**.\n",
    "\n",
    "# 🚀 Let's get started!"
   ]
  },
  {
   "cell_type": "markdown",
   "id": "0b3af23e",
   "metadata": {},
   "source": [
    "Like we learned last module, before we can use pandas, we must **import** the pandas library.\n",
    "* For illustration purposes, we'll also import the scientific computing library NumPy.\n",
    "* Both NumPy and pandas are usually imported with abbreviated aliases, `np` and `pd`."
   ]
  },
  {
   "cell_type": "code",
   "execution_count": null,
   "id": "0e56bf5f",
   "metadata": {},
   "outputs": [],
   "source": [
    "import numpy as np\n",
    "import pandas as pd"
   ]
  },
  {
   "cell_type": "markdown",
   "id": "99857f15",
   "metadata": {},
   "source": [
    "## 🗂️ Pandas Dataframes\n",
    "\n",
    "📌 *pandas* provides one of the most useful data structures for managing data: the dataframe.\n",
    "\n",
    "**Dataframes..**\n",
    "* allow fast, flexible, and efficient data manipulation.\n",
    "* are the natural data structure for **tabular** data.\n",
    "* are two-dimensional, containing both **rows** and **columns**.\n",
    "* consist of one or more **Series** (column)\n",
    "\n",
    "\n",
    "📌 ***pandas*** is built on top of the **NumPy** library, which in practice means that most of the methods defined for NumPy Arrays apply to *pandas* Series/DataFrames.\n",
    "\n",
    "🔍 **What makes Pandas so attractive?**\n",
    "1. Powerful and efficient interface to access and manipulate individual records.\n",
    "2. Proper handling of missing values.\n",
    "3. Relational database-style operations between DataFrames."
   ]
  },
  {
   "cell_type": "markdown",
   "id": "55746954",
   "metadata": {},
   "source": [
    "## 🏛️ Creating a Series\n",
    "\n",
    "We'l kick things off by creating our first *pandas* Series! (Remember: in the context of a **DataFrame** (table), each column is represented by a **Series**)."
   ]
  },
  {
   "cell_type": "markdown",
   "id": "4b01d9b5",
   "metadata": {},
   "source": [
    "💻 First, let's create some sample data to illustrate the creation of our Series."
   ]
  },
  {
   "cell_type": "code",
   "execution_count": null,
   "id": "4312e1c5",
   "metadata": {},
   "outputs": [],
   "source": [
    "spo2 = [88, 99, 88, 85, 100, 98] # Review: this is a Python list, containing 6 values.\n",
    "risk = ['high', 'low', 'high', 'high', 'low', 'low']"
   ]
  },
  {
   "cell_type": "code",
   "execution_count": null,
   "id": "c75cc46f",
   "metadata": {},
   "outputs": [],
   "source": [
    "# Create our first series\n",
    "spo2_series = pd.Series(spo2)\n",
    "spo2_series # If a variable name is the last line in a code cell, Jupyter will display the contents of the variable."
   ]
  },
  {
   "cell_type": "code",
   "execution_count": null,
   "id": "8c3bf8f7",
   "metadata": {},
   "outputs": [],
   "source": [
    "# Do the same for risk\n",
    "pd.Series(risk) # Display the 'risk' series"
   ]
  },
  {
   "cell_type": "markdown",
   "id": "82ae812e",
   "metadata": {
    "id": "82ae812e"
   },
   "source": [
    "## 🗂️ Creating a Pandas Dataframe\n",
    "\n",
    "* Now that we've seen a Series, we can look at how these are combined as **columns** in a **table**.\n",
    "* By popular convention, we will name our DataFrame variable `df`."
   ]
  },
  {
   "cell_type": "markdown",
   "id": "49f9f24a",
   "metadata": {},
   "source": [
    "**🔍 Example:** Create a small DataFrame from our sample data."
   ]
  },
  {
   "cell_type": "code",
   "execution_count": null,
   "id": "094f5a0a",
   "metadata": {},
   "outputs": [],
   "source": [
    "df = pd.DataFrame({'spo2': spo2, 'risk': risk}) # Create the DataFrame\n",
    "df # View the DataFrame"
   ]
  },
  {
   "cell_type": "markdown",
   "id": "30b3a34a",
   "metadata": {},
   "source": [
    "**🔍 Example:** Create a larger DataFrame from random data."
   ]
  },
  {
   "cell_type": "code",
   "execution_count": null,
   "id": "1f9d2f08",
   "metadata": {
    "colab": {
     "base_uri": "https://localhost:8080/",
     "height": 143
    },
    "id": "1f9d2f08",
    "outputId": "19429c60-6869-44c7-b761-f2fecd589310"
   },
   "outputs": [],
   "source": [
    "# Make some random numbers for data. \n",
    "# This makes an array of random integers from 1-10, then reshapes it into a 500x4 matrix (500 rows and 4 columns)\n",
    "random_data = np.random.randint(1,10, size=2000).reshape(500, 4)\n",
    "\n",
    "# Create some example column names\n",
    "column_names = ['columnA', 'columnB', 'columnC', 'columnD']\n",
    "\n",
    "# Create the DataFrame from the random data we generated.\n",
    "# Since the input matrix has 500 rows and 4 columns, the DataFrame will have 500 rows and 4 columns\n",
    "df = pd.DataFrame(data=random_data, columns=column_names)\n",
    "df # View the dataframe"
   ]
  },
  {
   "cell_type": "markdown",
   "id": "9e00c7d4",
   "metadata": {},
   "source": [
    "📌 When viewing a large DataFrame in a Jupyter notebook, sometimes the data will be **truncated** as above."
   ]
  },
  {
   "cell_type": "markdown",
   "id": "6cf367e3",
   "metadata": {
    "id": "6cf367e3"
   },
   "source": [
    "# 💾  Creating a DataFrame from an existing data file\n",
    "\n",
    "* Instead of creating a DataFrame from scratch (tedious!), usually we create a DataFrame by loading an existing data file.\n",
    "* The most common file format for storing datasets is the **comma-separated value** `(.csv)` file.\n",
    "\n",
    "📌 To create a pandas DataFrame from a `.csv` file, we'll use the `read_csv` function."
   ]
  },
  {
   "cell_type": "markdown",
   "id": "51a7d5d0",
   "metadata": {},
   "source": [
    "### 🏥 Let's load some real-world patient data from an electronic health record (EHR) system!\n",
    "The main input argument to `read_csv` function can be a local filename, or a remote URL of a file stored on the web. In this example, we'll be using an online file."
   ]
  },
  {
   "cell_type": "code",
   "execution_count": null,
   "id": "18a17ef6",
   "metadata": {
    "scrolled": false
   },
   "outputs": [],
   "source": [
    "url='' # Files removed from public access\n",
    "df = pd.read_csv(url) # Create the DataFrame from the given URL\n",
    "df # View the DataFrame we just created"
   ]
  },
  {
   "cell_type": "markdown",
   "id": "8e6be464",
   "metadata": {},
   "source": [
    "✅ We can see that this dataset contains 2000 rows and 5 columns corresponding to patient temperature measurements from an EHR system.  \n",
    "✅ Below is a more detailed description of each column:"
   ]
  },
  {
   "cell_type": "markdown",
   "id": "f0f8e7d1",
   "metadata": {},
   "source": [
    "| Column |  Description |\n",
    "| --- | --- |\n",
    "|  patient |   unique patient identifier |\n",
    "|  time |   the date and time of temperature measurement |\n",
    "|  temp_source |   the temperature acquisition method |\n",
    "|  temp_value |   the measured temperature value |\n",
    "|  temp_unit |   the temperature measurement unit |"
   ]
  },
  {
   "cell_type": "markdown",
   "id": "47YUaLX0zc_8",
   "metadata": {
    "id": "47YUaLX0zc_8"
   },
   "source": [
    "## 🕵️‍♂️ Viewing Parts of a Dataframe\n",
    "* DataFrames often hold a large number of rows (in many AI projects, you might be dealing with hundreds of thousands, or even millions, of samples!)\n",
    "* Sometimes we just want to get a preview, or a sense of what data is being stored in our DataFrame.\n",
    "* In the below examples, we'll see a few ways to view parts of a DataFrame\n",
    "    * This includes viewing a subset of columns, or a subset of rows, or both.\n",
    "\n",
    "📋 Let's start by viewing only some of a DataFrame's **rows**. Since pandas is so flexible, there are several ways to accomplish this. In the examples below, we will use the pandas functions `head` and `tail`."
   ]
  },
  {
   "cell_type": "markdown",
   "id": "e6b380d7",
   "metadata": {},
   "source": [
    "**✏️ Exercise:** Use `head` to view the first 5 rows of our `df` DataFrame. (**Hint:** Given a dataframe `X`, calling `X.head()` will show the first `5` rows of the DataFrame.  "
   ]
  },
  {
   "cell_type": "code",
   "execution_count": null,
   "id": "95f5d8dd",
   "metadata": {},
   "outputs": [],
   "source": [
    "# Call df.head()\n",
    "df.head()"
   ]
  },
  {
   "cell_type": "markdown",
   "id": "9bd524d6",
   "metadata": {},
   "source": [
    "**✏️ Exercise:** Use `head` to view the first **10** rows of `df`. (**Hint:** You can also provide an input argument `n` to the `head` function to show the first `n` rows (instead of the default `5` rows)."
   ]
  },
  {
   "cell_type": "code",
   "execution_count": null,
   "id": "d0be82b9",
   "metadata": {},
   "outputs": [],
   "source": [
    "# Call df.head(10)\n",
    "df.head(10)"
   ]
  },
  {
   "cell_type": "markdown",
   "id": "44f9d9ca",
   "metadata": {},
   "source": [
    "**✏️ Exercise:** Use `tail` to view the **last** 5 rows of our `df` DataFrame. (**Hint:** Given a dataframe `X`, calling `X.tail()` will show the **last** `5` rows of the DataFrame.  "
   ]
  },
  {
   "cell_type": "code",
   "execution_count": null,
   "id": "4535f19a",
   "metadata": {},
   "outputs": [],
   "source": [
    "# Call df.tail()\n",
    "df.tail()"
   ]
  },
  {
   "cell_type": "markdown",
   "id": "4349d214",
   "metadata": {},
   "source": [
    "**✏️ Exercise:** Use `tail` to view the **last** `10` rows of `df`. (**Hint:** You can also provide an input argument `n` to the `tail` function to show the last `n` rows (instead of the default `5` rows)."
   ]
  },
  {
   "cell_type": "code",
   "execution_count": null,
   "id": "50f56b56",
   "metadata": {},
   "outputs": [],
   "source": [
    "# Call df.tail(10)\n",
    "df.tail(10)"
   ]
  },
  {
   "cell_type": "markdown",
   "id": "2244b476",
   "metadata": {},
   "source": [
    "📋 Now, let's see some ways to view a subset of a DataFrame's **columns**.  \n",
    "**Reminder:** If the last line inside a code cell is simply a variable name, Jupyter will display the value of that variable."
   ]
  },
  {
   "cell_type": "markdown",
   "id": "b9e7fe38",
   "metadata": {},
   "source": [
    "For a given DataFrame `df` and desired column `col`, one way to view a single column is to call `df['col']`. (**Important:** the column name `col` must be in quotes!).  \n",
    "**✏️ Exercise:** Use the above method to view the `temp_value` column of our `df` DataFrame."
   ]
  },
  {
   "cell_type": "code",
   "execution_count": null,
   "id": "cfad1032",
   "metadata": {},
   "outputs": [],
   "source": [
    "# Call df['temp_value']\n",
    "df['temp_value']"
   ]
  },
  {
   "cell_type": "markdown",
   "id": "68ec6a34",
   "metadata": {},
   "source": [
    "We can also adapt this method to view multiple columns. Instead of passing in a single string column name `'C'`, instead we will pass in a **list** of string column names, e.g. `['A', 'B', 'C']`. For example: `df[['A', 'B', 'C']]` (**Important:** Notice the double brackets!)\n",
    "\n",
    "**✏️ Exercise:** Use the above method to view the `temp_value` **and** `temp_unit` columns of our `df` DataFrame."
   ]
  },
  {
   "cell_type": "code",
   "execution_count": null,
   "id": "f15bb025",
   "metadata": {},
   "outputs": [],
   "source": [
    "# Call df[['temp_value', 'temp_unit']]\n",
    "df[['temp_value', 'temp_unit']]"
   ]
  },
  {
   "cell_type": "markdown",
   "id": "a14ef0b9",
   "metadata": {},
   "source": [
    "🔍 These methods can also be combined!"
   ]
  },
  {
   "cell_type": "code",
   "execution_count": null,
   "id": "e0804fcf",
   "metadata": {},
   "outputs": [],
   "source": [
    "df[['time', 'temp_value']].head(2)"
   ]
  },
  {
   "cell_type": "markdown",
   "id": "afc5dec7",
   "metadata": {
    "id": "afc5dec7"
   },
   "source": [
    "## 🌱 Creating new columns \n",
    "\n",
    "* We can easily create new columns in an existing DataFrame.\n",
    "* When we define an equation as below, equation will be applied to every **row** of the DataFrame.\n",
    "* In this way, we can create new columns from different combinations of existing columns.\n",
    "\n",
    "Let's use an equation to convert Fahrenheit temperature to Celsius, and assign these values to a new column called `temp_celsius`."
   ]
  },
  {
   "cell_type": "code",
   "execution_count": null,
   "id": "107af062",
   "metadata": {
    "colab": {
     "base_uri": "https://localhost:8080/",
     "height": 206
    },
    "id": "107af062",
    "outputId": "de3188a0-fc49-4c70-e8e0-1b6a9b193380"
   },
   "outputs": [],
   "source": [
    "df['temp_celsius'] = (df['temp_value'] - 32) * (5/9)\n",
    "df.head()"
   ]
  },
  {
   "cell_type": "markdown",
   "id": "3ebe98a4",
   "metadata": {
    "id": "3ebe98a4"
   },
   "source": [
    "## 🗑️ Deleting columns \n",
    "\n",
    "* We can also **drop** (delete) columns.\n",
    "\n",
    "Let's remove the `temp_celsius` column that we previously created."
   ]
  },
  {
   "cell_type": "code",
   "execution_count": null,
   "id": "48b57eaa",
   "metadata": {
    "colab": {
     "base_uri": "https://localhost:8080/",
     "height": 206
    },
    "id": "48b57eaa",
    "outputId": "e4ff3c3c-e3a6-4499-c406-ad3e4afad251"
   },
   "outputs": [],
   "source": [
    "df.drop(columns=['temp_celsius']) # Will this remove the column?\n",
    "df.head()"
   ]
  },
  {
   "cell_type": "markdown",
   "id": "6af31be9",
   "metadata": {
    "id": "6af31be9"
   },
   "source": [
    "**What happened? `temp_celsius` is still there!**\n",
    "\n",
    "<div style=\"padding: 10px;margin-bottom: 20px;border: thin solid #E5C250;border-left-width: 10px;background-color: #fff\">\n",
    "    <p><strong>Tip:</strong> Unless you specify <code>inplace=True</code> or assign the dataframe back to itself (or a different variable name) <strong>the <code>drop</code> method does not change the original DataFrame!</strong></p>\n",
    "   </div>\n",
    "   \n",
    "Below is one way to permanently remove a column from a DataFrame by assigning the result to a new DataFrame variable `df2`."
   ]
  },
  {
   "cell_type": "code",
   "execution_count": null,
   "id": "840718b2",
   "metadata": {},
   "outputs": [],
   "source": [
    "# Now, after dropping the column, we are assigning the resulting DataFrame to a new variable.\n",
    "# This will persist the change.\n",
    "df2 = df.drop(columns=['temp_celsius']) \n",
    "df2.head()"
   ]
  },
  {
   "cell_type": "markdown",
   "id": "07188598",
   "metadata": {},
   "source": [
    "**✏️ Exercise:** Create a new DataFrame called `df3`, that contains everything in the `df` DataFrame **except** the `temp_source` column."
   ]
  },
  {
   "cell_type": "code",
   "execution_count": null,
   "id": "79646cdc",
   "metadata": {},
   "outputs": [],
   "source": [
    "# Code it!\n",
    "df3 = df.drop(columns=['temp_source'])\n",
    "df3.head()"
   ]
  },
  {
   "cell_type": "markdown",
   "id": "8a113e56",
   "metadata": {},
   "source": [
    "## 📊 Descriptive Statistics\n",
    "⚠️ Before diving into an AI project, it is critical to become familiar with the data you will be modeling!  Pandas has an large collection of optimized methods designed to analyze your data.\n",
    "\n",
    "A preliminary data discovery and exploration phase can help you better understand the data you will be modeling, and has many downstream advantages:\n",
    "* You may identify potential problems with the dataset (e.g., missing values, outliers, incomplete columns, irrelevant information)\n",
    "* Results of data exploration may help you decide which preproessing or modeling approach to take.\n",
    "* A better understanding of your population will help you interpret your future results.\n",
    "\n",
    "#### 🤔 Remember Python functions?\n",
    "Pandas offers many **functions** that take as **input** a set of values (example: all of the values from the `temp_celsius` column), and **return** a calculated **output** value based on which function was used.\n",
    "\n",
    "💡 Here are a few examples (most are self-explanatory!):\n",
    "* `sum` (sum the input values)\n",
    "* `count` (count the number of input values), `value_counts` (count the number of each unique value)\n",
    "* `min` (return the minimum value), `max` (return the maximum value)\n",
    "* `mean` (return the mean value), `median` (median), `mode` (mode)\n",
    "* `var` (variance), `std` (standard deviation)\n",
    "* `quantile` (compute quantiles)\n",
    "\n",
    "Let's take a look at a few examples using our clinical dataset!"
   ]
  },
  {
   "cell_type": "markdown",
   "id": "085acc35",
   "metadata": {},
   "source": [
    "🏫 **Example:** Here's how we can compute the **mean** patient temperature, measured in Fahrenheit (i.e., the `temp_value` of our `df` DataFrame):"
   ]
  },
  {
   "cell_type": "code",
   "execution_count": null,
   "id": "e45b5034",
   "metadata": {},
   "outputs": [],
   "source": [
    "# Compute the mean temperature (Fahrenheit)\n",
    "df['temp_value'].mean()"
   ]
  },
  {
   "cell_type": "markdown",
   "id": "e515f2c7",
   "metadata": {},
   "source": [
    "It's that easy! Let's compute a few more descriptive statistics:"
   ]
  },
  {
   "cell_type": "markdown",
   "id": "fb2ae2e7",
   "metadata": {},
   "source": [
    "**✏️ Exercise:** Compute the **minimum** Fahrenheit temperature (`temp_value`)."
   ]
  },
  {
   "cell_type": "code",
   "execution_count": null,
   "id": "734a99a5",
   "metadata": {},
   "outputs": [],
   "source": [
    "# Compute the minimum temperature (Fahrenheit)\n",
    "df['temp_value'].min()"
   ]
  },
  {
   "cell_type": "markdown",
   "id": "a5b75d65",
   "metadata": {},
   "source": [
    "**✏️ Exercise:** Compute the **maximum** Fahrenheit temperature (`temp_value`)."
   ]
  },
  {
   "cell_type": "code",
   "execution_count": null,
   "id": "850dbf88",
   "metadata": {},
   "outputs": [],
   "source": [
    "# Compute the maximum temperature (Fahrenheit)\n",
    "df['temp_value'].max()"
   ]
  },
  {
   "cell_type": "markdown",
   "id": "01ccf6f1",
   "metadata": {},
   "source": [
    "**✏️ Exercise:** Count the number of occurrences of **each unique** temperature acquisition method (excluding missing values).  \n",
    "* **Hint 1:** The `temp_source` column contains the temperature acquisition method.\n",
    "* **Hint 2:** The `value_counts` function can be used to calculate counts of each unique value (excluding missing values)"
   ]
  },
  {
   "cell_type": "code",
   "execution_count": null,
   "id": "a0f19466",
   "metadata": {},
   "outputs": [],
   "source": [
    "# Code it!\n",
    "df['temp_source'].value_counts()"
   ]
  },
  {
   "cell_type": "markdown",
   "id": "f8534aca",
   "metadata": {},
   "source": [
    "Finally, the `describe` function can be used on an entire DataFrame to display several common statistics, computed for each column, all at once. (**Note:** Be aware of the values and data types contained in each column, as sometimes the statistics will not make sense. For example, `patient` is a randomized patient identifier, so calculations with these values will be meaningless.)"
   ]
  },
  {
   "cell_type": "code",
   "execution_count": null,
   "id": "2383c2f6",
   "metadata": {},
   "outputs": [],
   "source": [
    "# (Almost) everything, (almost) everywhere, all at once\n",
    "# Note: will only compute statistics for columns with numerical data.\n",
    "df.describe()"
   ]
  },
  {
   "cell_type": "markdown",
   "id": "e8e532f0",
   "metadata": {},
   "source": [
    "## 🔬 Filtering data\n",
    "Pandas makes it easy to select, analyze, and process subsets of your data based on some criteria `C`. This is accomplished with easily understandable syntax: `df[C]` will return a subset of DataFrame `df` that **matches** the criteria `C` listed inside brackets `[]`."
   ]
  },
  {
   "cell_type": "markdown",
   "id": "3d90eb91",
   "metadata": {},
   "source": [
    "### Comparing values\n",
    "In pandas, we can create filtering criteria using familiar mathematical operators to compare values:\n",
    "* `>`: greater than\n",
    "* `<`: less than\n",
    "* `>=`: greater than or equal to\n",
    "* `<=`: less than or equal to\n",
    "* `!=`: is not equal to\n",
    "* `==`: is equal to a single value\n",
    "* **Bonus:** `.isin(L)`: is equal to any value contained in the list `L`."
   ]
  },
  {
   "cell_type": "markdown",
   "id": "17853995",
   "metadata": {},
   "source": [
    "**🏫 Example:** Display readings where temperature is **greater** than 102$^{\\circ} F$.\n",
    "* In this example, the criteria `C` is `df['temp_value'] > 102`.\n",
    "* Recall the Pandas filtering syntax: `df[C]`.\n",
    "* So, this is what we want: `df[df['temp_value'] > 102]`."
   ]
  },
  {
   "cell_type": "code",
   "execution_count": null,
   "id": "effbed44",
   "metadata": {},
   "outputs": [],
   "source": [
    "# Select rows where Fahrenheit temperature is greater than 102 degrees.\n",
    "df[df['temp_value'] > 102]"
   ]
  },
  {
   "cell_type": "markdown",
   "id": "4dcdd276",
   "metadata": {},
   "source": [
    "**✏️ Exercise:** Display readings where temperature is less than 94$^{\\circ} F$."
   ]
  },
  {
   "cell_type": "code",
   "execution_count": null,
   "id": "45465e39",
   "metadata": {},
   "outputs": [],
   "source": [
    "# Display rows where measured Fahrenheit temperature is less than 94 degrees.\n",
    "df[df['temp_value'] < 94]"
   ]
  },
  {
   "cell_type": "markdown",
   "id": "69539eb3",
   "metadata": {},
   "source": [
    "**🏫 Example:** Display the first 5 readings where the temperature acquisition method (`temp_source`) is `Core`.\n",
    "\n",
    "* Recall that the symbol `==` will check for equality (we want the source to be equal to the single value `Core`).\n",
    "* In this example, the criteria `C` is `df['temp_value'] == 'Core'`.\n",
    "* Given the Pandas filtering syntax: `df[C]`, this is what we want: `df[df['temp_source'] == 'Core']`."
   ]
  },
  {
   "cell_type": "code",
   "execution_count": null,
   "id": "a17076c2",
   "metadata": {},
   "outputs": [],
   "source": [
    "# Show the first 5 core temperature measurements.\n",
    "df[df['temp_source'] == 'Core'].head()"
   ]
  },
  {
   "cell_type": "markdown",
   "id": "cceae2a5",
   "metadata": {},
   "source": [
    "**🏫 Excercise:** Display the first 5 readings where the temperature acquisition method (`temp_source`) is `Tympanic`."
   ]
  },
  {
   "cell_type": "code",
   "execution_count": null,
   "id": "d71ee165",
   "metadata": {},
   "outputs": [],
   "source": [
    "# Show the first 5 tympanic (ear) temperature measurements.\n",
    "df[df['temp_source'] == 'Tympanic'].head()"
   ]
  },
  {
   "cell_type": "markdown",
   "id": "c7bc6f15",
   "metadata": {},
   "source": [
    "### Combining multiple criteria\n",
    "\n",
    "Multiple criteria can be combined using either the `&` or `|` symbols:\n",
    "* C1 `&` C2: This will select rows that match **both** criteria C1 **and** C2.\n",
    "* C1 `&` C2: This will select rows that match **either** criteria C1 **or** C2.\n",
    "\n",
    "**🏫 Example:** Display readings where temperature is between 99$^{\\circ} F$ and 100$^{\\circ} F$. In this example, we have two criteria:\n",
    "* C1: `df['temp_value'] >= 99`\n",
    "* C2: `df['temp_value'] <= 100`"
   ]
  },
  {
   "cell_type": "code",
   "execution_count": null,
   "id": "f9d2d237",
   "metadata": {},
   "outputs": [],
   "source": [
    "# Select rows where the Fahrenheit temperature is between 99 and 100 degrees.\n",
    "df[(df['temp_value'] >= 99) & (df['temp_value'] <= 100)]"
   ]
  },
  {
   "cell_type": "markdown",
   "id": "668e228a",
   "metadata": {},
   "source": [
    "**✏️ Excercise:** Display all `Core` temperatures that are greater than 100$^{\\circ} F$. (**Hint:** we have 2 criteria.)"
   ]
  },
  {
   "cell_type": "code",
   "execution_count": null,
   "id": "9aedbbfd",
   "metadata": {},
   "outputs": [],
   "source": [
    "# Display all rows with core temperature greater than 100 degrees F.\n",
    "df[(df['temp_source'] == 'Core') & (df['temp_value'] > 100)]"
   ]
  },
  {
   "cell_type": "markdown",
   "id": "0e7a5eb1",
   "metadata": {},
   "source": [
    "### Analyzing filtered data\n",
    "We can also perform our descriptive statistics on a filtered subset!"
   ]
  },
  {
   "cell_type": "code",
   "execution_count": null,
   "id": "fb9a1376",
   "metadata": {},
   "outputs": [],
   "source": [
    "df[(df['temp_source'] == 'Core') & (df['temp_value'] > 100)].describe()"
   ]
  },
  {
   "cell_type": "markdown",
   "id": "5d9c19e1",
   "metadata": {},
   "source": [
    "## Data visualization\n",
    "* Let's conclude this lesson by learning how Pandas can enhance our understanding of a dataset with its many built-in visualization tools.\n",
    "\n",
    "* In the next module, we'll be building a machine learning prediction model using a real-world patient dataset. We will use this dataset to demonstrate methods for data visualization in Pandas.\n",
    "\n",
    "🧐 Let's see the data! This time, we'll be loading our dataset into a DataFrame variable named `X`."
   ]
  },
  {
   "cell_type": "code",
   "execution_count": null,
   "id": "088473f7",
   "metadata": {},
   "outputs": [],
   "source": [
    "X = pd.read_csv('') # Files removed from public access\n",
    "X.head()"
   ]
  },
  {
   "cell_type": "markdown",
   "id": "f35b27a8",
   "metadata": {},
   "source": [
    "**🏫 Example:** Let's visually examine the distribution of patient age with the pandas `hist` (histogram) function."
   ]
  },
  {
   "cell_type": "code",
   "execution_count": null,
   "id": "2cf817b3",
   "metadata": {},
   "outputs": [],
   "source": [
    "hist = X['age'].hist()"
   ]
  },
  {
   "cell_type": "markdown",
   "id": "28f61863",
   "metadata": {},
   "source": [
    "We can modify many parameters of the `hist` function to create a more informative figure."
   ]
  },
  {
   "cell_type": "code",
   "execution_count": null,
   "id": "c67d123b",
   "metadata": {},
   "outputs": [],
   "source": [
    "hist = X['age'].hist(bins=72, grid=False)\n",
    "hist.set_title('Distribution of Patient Age')\n",
    "hist.set_ylabel('Count')\n",
    "hist.set_xlabel('Age')\n",
    "display(hist)"
   ]
  },
  {
   "cell_type": "markdown",
   "id": "44145fe4",
   "metadata": {},
   "source": [
    "**✏️ Excercise:** Visualize the distribution of the body mass index (`bmi`) column. Feel free to first filter out unrealistic BMI values and to experiment with the `bins` parameter of the `hist` function."
   ]
  },
  {
   "cell_type": "code",
   "execution_count": null,
   "id": "6ac17451",
   "metadata": {},
   "outputs": [],
   "source": [
    "X['bmi'].hist(bins=40)"
   ]
  },
  {
   "cell_type": "markdown",
   "id": "6a622496",
   "metadata": {},
   "source": [
    "**🏫 Example:** We can use the `df.plot.box` function to create box plots from columns in our DataFrame:"
   ]
  },
  {
   "cell_type": "code",
   "execution_count": null,
   "id": "3a92ebb4",
   "metadata": {},
   "outputs": [],
   "source": [
    "X.plot.box(column='age', by='marital_status')"
   ]
  },
  {
   "cell_type": "markdown",
   "id": "bfa1e495",
   "metadata": {},
   "source": [
    "**✏️ Excercise:** Practice with the `hist` and `box` functions by exploring different columns in our DataFrame. Experiment with data filtering methods to further refine your figures. **Hint:** We can see all of the available columns with `print(X.columns)`."
   ]
  },
  {
   "cell_type": "code",
   "execution_count": null,
   "id": "705b9371",
   "metadata": {},
   "outputs": [],
   "source": [
    "### Experiment with code!\n"
   ]
  }
 ],
 "metadata": {
  "colab": {
   "provenance": []
  },
  "kernelspec": {
   "display_name": "Python 3 (ipykernel)",
   "language": "python",
   "name": "python3"
  },
  "language_info": {
   "codemirror_mode": {
    "name": "ipython",
    "version": 3
   },
   "file_extension": ".py",
   "mimetype": "text/x-python",
   "name": "python",
   "nbconvert_exporter": "python",
   "pygments_lexer": "ipython3",
   "version": "3.9.16"
  },
  "vscode": {
   "interpreter": {
    "hash": "442d0c0e479a9a390f050bd5e20dc551a2c9cfe478296c9d47f476f59d719e25"
   }
  }
 },
 "nbformat": 4,
 "nbformat_minor": 5
}
